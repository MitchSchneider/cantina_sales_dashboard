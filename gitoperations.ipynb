{
 "cells": [
  {
   "cell_type": "code",
   "execution_count": 1,
   "id": "77b79939-1bbc-48a6-9a32-3dc327d1f98a",
   "metadata": {},
   "outputs": [],
   "source": [
    "import git "
   ]
  },
  {
   "cell_type": "code",
   "execution_count": 7,
   "id": "490cf584-4322-4536-9beb-294227ca9037",
   "metadata": {},
   "outputs": [],
   "source": [
    "repo = git.Repo.init('/Users/mitchelschneider/opt/anaconda3/envs/cantina_sales_dashboard/sales_dashboard')\n"
   ]
  },
  {
   "cell_type": "code",
   "execution_count": 8,
   "id": "fe84fffe-1d7b-4728-ac8b-41907f48a7d0",
   "metadata": {},
   "outputs": [
    {
     "data": {
      "text/plain": [
       "<git.Commit \"1dc6a42e68b7693e3313ce1ba6ba2c2c1f5b2626\">"
      ]
     },
     "execution_count": 8,
     "metadata": {},
     "output_type": "execute_result"
    }
   ],
   "source": [
    "# Stage files\n",
    "repo.git.add('.')\n",
    "\n",
    "# Commit changes\n",
    "repo.index.commit('Initial commit')\n"
   ]
  },
  {
   "cell_type": "code",
   "execution_count": 9,
   "id": "7b5040f3-1405-4510-9989-a8577bf72716",
   "metadata": {},
   "outputs": [
    {
     "data": {
      "text/plain": [
       "<git.Remote \"origin\">"
      ]
     },
     "execution_count": 9,
     "metadata": {},
     "output_type": "execute_result"
    }
   ],
   "source": [
    "remote_url = \"https://github.com/MitchSchneider/cantina_sales_dashboard.git\"\n",
    "repo.create_remote('origin', remote_url)\n"
   ]
  },
  {
   "cell_type": "code",
   "execution_count": 11,
   "id": "54f6c0e5-63db-4742-a6ed-5f6781dfc783",
   "metadata": {},
   "outputs": [
    {
     "ename": "GitCommandError",
     "evalue": "Cmd('git') failed due to: exit code(128)\n  cmdline: git push --porcelain -- origin main:main\n  stderr: 'fatal: could not read Username for 'https://github.com': Device not configured'",
     "output_type": "error",
     "traceback": [
      "\u001b[0;31m---------------------------------------------------------------------------\u001b[0m",
      "\u001b[0;31mGitCommandError\u001b[0m                           Traceback (most recent call last)",
      "Cell \u001b[0;32mIn[11], line 2\u001b[0m\n\u001b[1;32m      1\u001b[0m origin \u001b[38;5;241m=\u001b[39m repo\u001b[38;5;241m.\u001b[39mremote(name\u001b[38;5;241m=\u001b[39m\u001b[38;5;124m'\u001b[39m\u001b[38;5;124morigin\u001b[39m\u001b[38;5;124m'\u001b[39m)\n\u001b[0;32m----> 2\u001b[0m \u001b[43morigin\u001b[49m\u001b[38;5;241;43m.\u001b[39;49m\u001b[43mpush\u001b[49m\u001b[43m(\u001b[49m\u001b[43mrefspec\u001b[49m\u001b[38;5;241;43m=\u001b[39;49m\u001b[38;5;124;43m'\u001b[39;49m\u001b[38;5;124;43mmain:main\u001b[39;49m\u001b[38;5;124;43m'\u001b[39;49m\u001b[43m)\u001b[49m\n",
      "File \u001b[0;32m~/opt/anaconda3/envs/cantina_sales_dashboard/lib/python3.9/site-packages/git/remote.py:1117\u001b[0m, in \u001b[0;36mRemote.push\u001b[0;34m(self, refspec, progress, kill_after_timeout, allow_unsafe_protocols, allow_unsafe_options, **kwargs)\u001b[0m\n\u001b[1;32m   1105\u001b[0m     Git\u001b[38;5;241m.\u001b[39mcheck_unsafe_options(options\u001b[38;5;241m=\u001b[39m\u001b[38;5;28mlist\u001b[39m(kwargs\u001b[38;5;241m.\u001b[39mkeys()), unsafe_options\u001b[38;5;241m=\u001b[39m\u001b[38;5;28mself\u001b[39m\u001b[38;5;241m.\u001b[39munsafe_git_push_options)\n\u001b[1;32m   1107\u001b[0m proc \u001b[38;5;241m=\u001b[39m \u001b[38;5;28mself\u001b[39m\u001b[38;5;241m.\u001b[39mrepo\u001b[38;5;241m.\u001b[39mgit\u001b[38;5;241m.\u001b[39mpush(\n\u001b[1;32m   1108\u001b[0m     \u001b[38;5;124m\"\u001b[39m\u001b[38;5;124m--\u001b[39m\u001b[38;5;124m\"\u001b[39m,\n\u001b[1;32m   1109\u001b[0m     \u001b[38;5;28mself\u001b[39m,\n\u001b[0;32m   (...)\u001b[0m\n\u001b[1;32m   1115\u001b[0m     \u001b[38;5;241m*\u001b[39m\u001b[38;5;241m*\u001b[39mkwargs,\n\u001b[1;32m   1116\u001b[0m )\n\u001b[0;32m-> 1117\u001b[0m \u001b[38;5;28;01mreturn\u001b[39;00m \u001b[38;5;28;43mself\u001b[39;49m\u001b[38;5;241;43m.\u001b[39;49m\u001b[43m_get_push_info\u001b[49m\u001b[43m(\u001b[49m\u001b[43mproc\u001b[49m\u001b[43m,\u001b[49m\u001b[43m \u001b[49m\u001b[43mprogress\u001b[49m\u001b[43m,\u001b[49m\u001b[43m \u001b[49m\u001b[43mkill_after_timeout\u001b[49m\u001b[38;5;241;43m=\u001b[39;49m\u001b[43mkill_after_timeout\u001b[49m\u001b[43m)\u001b[49m\n",
      "File \u001b[0;32m~/opt/anaconda3/envs/cantina_sales_dashboard/lib/python3.9/site-packages/git/remote.py:926\u001b[0m, in \u001b[0;36mRemote._get_push_info\u001b[0;34m(self, proc, progress, kill_after_timeout)\u001b[0m\n\u001b[1;32m    924\u001b[0m stderr_text \u001b[38;5;241m=\u001b[39m progress\u001b[38;5;241m.\u001b[39merror_lines \u001b[38;5;129;01mand\u001b[39;00m \u001b[38;5;124m\"\u001b[39m\u001b[38;5;130;01m\\n\u001b[39;00m\u001b[38;5;124m\"\u001b[39m\u001b[38;5;241m.\u001b[39mjoin(progress\u001b[38;5;241m.\u001b[39merror_lines) \u001b[38;5;129;01mor\u001b[39;00m \u001b[38;5;124m\"\u001b[39m\u001b[38;5;124m\"\u001b[39m\n\u001b[1;32m    925\u001b[0m \u001b[38;5;28;01mtry\u001b[39;00m:\n\u001b[0;32m--> 926\u001b[0m     \u001b[43mproc\u001b[49m\u001b[38;5;241;43m.\u001b[39;49m\u001b[43mwait\u001b[49m\u001b[43m(\u001b[49m\u001b[43mstderr\u001b[49m\u001b[38;5;241;43m=\u001b[39;49m\u001b[43mstderr_text\u001b[49m\u001b[43m)\u001b[49m\n\u001b[1;32m    927\u001b[0m \u001b[38;5;28;01mexcept\u001b[39;00m \u001b[38;5;167;01mException\u001b[39;00m \u001b[38;5;28;01mas\u001b[39;00m e:\n\u001b[1;32m    928\u001b[0m     \u001b[38;5;66;03m# This is different than fetch (which fails if there is any std_err\u001b[39;00m\n\u001b[1;32m    929\u001b[0m     \u001b[38;5;66;03m# even if there is an output)\u001b[39;00m\n\u001b[1;32m    930\u001b[0m     \u001b[38;5;28;01mif\u001b[39;00m \u001b[38;5;129;01mnot\u001b[39;00m output:\n",
      "File \u001b[0;32m~/opt/anaconda3/envs/cantina_sales_dashboard/lib/python3.9/site-packages/git/cmd.py:602\u001b[0m, in \u001b[0;36mGit.AutoInterrupt.wait\u001b[0;34m(self, stderr)\u001b[0m\n\u001b[1;32m    600\u001b[0m     errstr \u001b[38;5;241m=\u001b[39m read_all_from_possibly_closed_stream(p_stderr)\n\u001b[1;32m    601\u001b[0m     log\u001b[38;5;241m.\u001b[39mdebug(\u001b[38;5;124m\"\u001b[39m\u001b[38;5;124mAutoInterrupt wait stderr: \u001b[39m\u001b[38;5;132;01m%r\u001b[39;00m\u001b[38;5;124m\"\u001b[39m \u001b[38;5;241m%\u001b[39m (errstr,))\n\u001b[0;32m--> 602\u001b[0m     \u001b[38;5;28;01mraise\u001b[39;00m GitCommandError(remove_password_if_present(\u001b[38;5;28mself\u001b[39m\u001b[38;5;241m.\u001b[39margs), status, errstr)\n\u001b[1;32m    603\u001b[0m \u001b[38;5;28;01mreturn\u001b[39;00m status\n",
      "\u001b[0;31mGitCommandError\u001b[0m: Cmd('git') failed due to: exit code(128)\n  cmdline: git push --porcelain -- origin main:main\n  stderr: 'fatal: could not read Username for 'https://github.com': Device not configured'"
     ]
    }
   ],
   "source": [
    "origin = repo.remote(name='origin')\n",
    "origin.push(refspec='main:main')\n"
   ]
  },
  {
   "cell_type": "code",
   "execution_count": null,
   "id": "596eebb4-f83a-4ae6-9a8d-02680aeca1af",
   "metadata": {},
   "outputs": [],
   "source": [
    "import git\n",
    "\n",
    "# Path to your project\n",
    "repo_path = ''/Users/mitchelschneider/opt/anaconda3/envs/cantina_sales_dashboard/sales_dashboard''\n",
    "\n",
    "# Initialize repo, add, commit\n",
    "repo = git.Repo(repo_path)\n",
    "repo.git.add('.')\n",
    "repo.index.commit('Commit message')\n",
    "\n",
    "# Set remote and push\n",
    "origin = repo.remote(name='origin')\n",
    "origin.push(refspec='main:main')"
   ]
  }
 ],
 "metadata": {
  "kernelspec": {
   "display_name": "Python 3 (ipykernel)",
   "language": "python",
   "name": "python3"
  },
  "language_info": {
   "codemirror_mode": {
    "name": "ipython",
    "version": 3
   },
   "file_extension": ".py",
   "mimetype": "text/x-python",
   "name": "python",
   "nbconvert_exporter": "python",
   "pygments_lexer": "ipython3",
   "version": "3.9.18"
  }
 },
 "nbformat": 4,
 "nbformat_minor": 5
}
