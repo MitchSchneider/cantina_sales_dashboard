{
 "cells": [
  {
   "cell_type": "code",
   "execution_count": 14,
   "id": "77b79939-1bbc-48a6-9a32-3dc327d1f98a",
   "metadata": {},
   "outputs": [],
   "source": [
    "import git "
   ]
  },
  {
   "cell_type": "code",
   "execution_count": 15,
   "id": "490cf584-4322-4536-9beb-294227ca9037",
   "metadata": {},
   "outputs": [],
   "source": [
    "project_path = '/Users/mitchelschneider/opt/anaconda3/envs/cantina_sales_dashboard/sales_dashboard'\n"
   ]
  },
  {
   "cell_type": "code",
   "execution_count": 16,
   "id": "b1d687e3-7e58-46ec-b056-10e23c5f2ac9",
   "metadata": {},
   "outputs": [],
   "source": [
    "repo = git.Repo.init(project_path)"
   ]
  },
  {
   "cell_type": "code",
   "execution_count": 20,
   "id": "563d1451-8484-40ea-b70f-bf8f87a80eb0",
   "metadata": {},
   "outputs": [],
   "source": [
    "remote_url = 'https://github.com/MitchSchneider/cantina_sales_dashboard.git'  # Replace with your actual GitHub repository URL\n",
    "\n"
   ]
  },
  {
   "cell_type": "code",
   "execution_count": 18,
   "id": "5e0b2548-0ab5-4acc-b824-76f1e190f433",
   "metadata": {},
   "outputs": [
    {
     "data": {
      "text/plain": [
       "<git.Commit \"2518a23d5c4f4f7de7e00c1ee9b4aef6be1ee40e\">"
      ]
     },
     "execution_count": 18,
     "metadata": {},
     "output_type": "execute_result"
    }
   ],
   "source": [
    "repo.git.add('.')\n",
    "repo.index.commit('Initial commit')\n"
   ]
  },
  {
   "cell_type": "code",
   "execution_count": 21,
   "id": "ce1ad923-662f-4e0b-a7e1-015038dce6cb",
   "metadata": {},
   "outputs": [
    {
     "ename": "GitCommandError",
     "evalue": "Cmd('git') failed due to: exit code(128)\n  cmdline: git push --porcelain -- origin main:main\n  stderr: 'fatal: could not read Username for 'https://github.com': Device not configured'",
     "output_type": "error",
     "traceback": [
      "\u001b[0;31m---------------------------------------------------------------------------\u001b[0m",
      "\u001b[0;31mGitCommandError\u001b[0m                           Traceback (most recent call last)",
      "Cell \u001b[0;32mIn[21], line 5\u001b[0m\n\u001b[1;32m      2\u001b[0m origin \u001b[38;5;241m=\u001b[39m repo\u001b[38;5;241m.\u001b[39mremote(name\u001b[38;5;241m=\u001b[39m\u001b[38;5;124m'\u001b[39m\u001b[38;5;124morigin\u001b[39m\u001b[38;5;124m'\u001b[39m)\n\u001b[1;32m      4\u001b[0m \u001b[38;5;66;03m# Push to the remote repository\u001b[39;00m\n\u001b[0;32m----> 5\u001b[0m \u001b[43morigin\u001b[49m\u001b[38;5;241;43m.\u001b[39;49m\u001b[43mpush\u001b[49m\u001b[43m(\u001b[49m\u001b[43mrefspec\u001b[49m\u001b[38;5;241;43m=\u001b[39;49m\u001b[38;5;124;43m'\u001b[39;49m\u001b[38;5;124;43mmain:main\u001b[39;49m\u001b[38;5;124;43m'\u001b[39;49m\u001b[43m)\u001b[49m\n",
      "File \u001b[0;32m~/opt/anaconda3/envs/cantina_sales_dashboard/lib/python3.9/site-packages/git/remote.py:1117\u001b[0m, in \u001b[0;36mRemote.push\u001b[0;34m(self, refspec, progress, kill_after_timeout, allow_unsafe_protocols, allow_unsafe_options, **kwargs)\u001b[0m\n\u001b[1;32m   1105\u001b[0m     Git\u001b[38;5;241m.\u001b[39mcheck_unsafe_options(options\u001b[38;5;241m=\u001b[39m\u001b[38;5;28mlist\u001b[39m(kwargs\u001b[38;5;241m.\u001b[39mkeys()), unsafe_options\u001b[38;5;241m=\u001b[39m\u001b[38;5;28mself\u001b[39m\u001b[38;5;241m.\u001b[39munsafe_git_push_options)\n\u001b[1;32m   1107\u001b[0m proc \u001b[38;5;241m=\u001b[39m \u001b[38;5;28mself\u001b[39m\u001b[38;5;241m.\u001b[39mrepo\u001b[38;5;241m.\u001b[39mgit\u001b[38;5;241m.\u001b[39mpush(\n\u001b[1;32m   1108\u001b[0m     \u001b[38;5;124m\"\u001b[39m\u001b[38;5;124m--\u001b[39m\u001b[38;5;124m\"\u001b[39m,\n\u001b[1;32m   1109\u001b[0m     \u001b[38;5;28mself\u001b[39m,\n\u001b[0;32m   (...)\u001b[0m\n\u001b[1;32m   1115\u001b[0m     \u001b[38;5;241m*\u001b[39m\u001b[38;5;241m*\u001b[39mkwargs,\n\u001b[1;32m   1116\u001b[0m )\n\u001b[0;32m-> 1117\u001b[0m \u001b[38;5;28;01mreturn\u001b[39;00m \u001b[38;5;28;43mself\u001b[39;49m\u001b[38;5;241;43m.\u001b[39;49m\u001b[43m_get_push_info\u001b[49m\u001b[43m(\u001b[49m\u001b[43mproc\u001b[49m\u001b[43m,\u001b[49m\u001b[43m \u001b[49m\u001b[43mprogress\u001b[49m\u001b[43m,\u001b[49m\u001b[43m \u001b[49m\u001b[43mkill_after_timeout\u001b[49m\u001b[38;5;241;43m=\u001b[39;49m\u001b[43mkill_after_timeout\u001b[49m\u001b[43m)\u001b[49m\n",
      "File \u001b[0;32m~/opt/anaconda3/envs/cantina_sales_dashboard/lib/python3.9/site-packages/git/remote.py:926\u001b[0m, in \u001b[0;36mRemote._get_push_info\u001b[0;34m(self, proc, progress, kill_after_timeout)\u001b[0m\n\u001b[1;32m    924\u001b[0m stderr_text \u001b[38;5;241m=\u001b[39m progress\u001b[38;5;241m.\u001b[39merror_lines \u001b[38;5;129;01mand\u001b[39;00m \u001b[38;5;124m\"\u001b[39m\u001b[38;5;130;01m\\n\u001b[39;00m\u001b[38;5;124m\"\u001b[39m\u001b[38;5;241m.\u001b[39mjoin(progress\u001b[38;5;241m.\u001b[39merror_lines) \u001b[38;5;129;01mor\u001b[39;00m \u001b[38;5;124m\"\u001b[39m\u001b[38;5;124m\"\u001b[39m\n\u001b[1;32m    925\u001b[0m \u001b[38;5;28;01mtry\u001b[39;00m:\n\u001b[0;32m--> 926\u001b[0m     \u001b[43mproc\u001b[49m\u001b[38;5;241;43m.\u001b[39;49m\u001b[43mwait\u001b[49m\u001b[43m(\u001b[49m\u001b[43mstderr\u001b[49m\u001b[38;5;241;43m=\u001b[39;49m\u001b[43mstderr_text\u001b[49m\u001b[43m)\u001b[49m\n\u001b[1;32m    927\u001b[0m \u001b[38;5;28;01mexcept\u001b[39;00m \u001b[38;5;167;01mException\u001b[39;00m \u001b[38;5;28;01mas\u001b[39;00m e:\n\u001b[1;32m    928\u001b[0m     \u001b[38;5;66;03m# This is different than fetch (which fails if there is any std_err\u001b[39;00m\n\u001b[1;32m    929\u001b[0m     \u001b[38;5;66;03m# even if there is an output)\u001b[39;00m\n\u001b[1;32m    930\u001b[0m     \u001b[38;5;28;01mif\u001b[39;00m \u001b[38;5;129;01mnot\u001b[39;00m output:\n",
      "File \u001b[0;32m~/opt/anaconda3/envs/cantina_sales_dashboard/lib/python3.9/site-packages/git/cmd.py:602\u001b[0m, in \u001b[0;36mGit.AutoInterrupt.wait\u001b[0;34m(self, stderr)\u001b[0m\n\u001b[1;32m    600\u001b[0m     errstr \u001b[38;5;241m=\u001b[39m read_all_from_possibly_closed_stream(p_stderr)\n\u001b[1;32m    601\u001b[0m     log\u001b[38;5;241m.\u001b[39mdebug(\u001b[38;5;124m\"\u001b[39m\u001b[38;5;124mAutoInterrupt wait stderr: \u001b[39m\u001b[38;5;132;01m%r\u001b[39;00m\u001b[38;5;124m\"\u001b[39m \u001b[38;5;241m%\u001b[39m (errstr,))\n\u001b[0;32m--> 602\u001b[0m     \u001b[38;5;28;01mraise\u001b[39;00m GitCommandError(remove_password_if_present(\u001b[38;5;28mself\u001b[39m\u001b[38;5;241m.\u001b[39margs), status, errstr)\n\u001b[1;32m    603\u001b[0m \u001b[38;5;28;01mreturn\u001b[39;00m status\n",
      "\u001b[0;31mGitCommandError\u001b[0m: Cmd('git') failed due to: exit code(128)\n  cmdline: git push --porcelain -- origin main:main\n  stderr: 'fatal: could not read Username for 'https://github.com': Device not configured'"
     ]
    }
   ],
   "source": [
    "# Get the existing remote\n",
    "origin = repo.remote(name='origin')\n",
    "\n",
    "# Push to the remote repository\n",
    "origin.push(refspec='main:main')\n"
   ]
  },
  {
   "cell_type": "code",
   "execution_count": null,
   "id": "5e2b6ed9-6ec8-492a-a697-80d541a6bc32",
   "metadata": {},
   "outputs": [],
   "source": []
  }
 ],
 "metadata": {
  "kernelspec": {
   "display_name": "Python 3 (ipykernel)",
   "language": "python",
   "name": "python3"
  },
  "language_info": {
   "codemirror_mode": {
    "name": "ipython",
    "version": 3
   },
   "file_extension": ".py",
   "mimetype": "text/x-python",
   "name": "python",
   "nbconvert_exporter": "python",
   "pygments_lexer": "ipython3",
   "version": "3.9.18"
  }
 },
 "nbformat": 4,
 "nbformat_minor": 5
}
